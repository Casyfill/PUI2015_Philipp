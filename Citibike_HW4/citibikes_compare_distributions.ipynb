{
 "cells": [
  {
   "cell_type": "markdown",
   "metadata": {
    "collapsed": true
   },
   "source": [
    "#Assignment 1:\n",
    "    test if the distribution of ages is the same for \n",
    "    \n",
    "    1) male and femal riders\n",
    "    \n",
    "    2) day and night riders\n",
    "    \n",
    "    use 3 tests: KS, Pearson's, Spearman's"
   ]
  },
  {
   "cell_type": "markdown",
   "metadata": {},
   "source": [
    "my usual imports and setups"
   ]
  },
  {
   "cell_type": "code",
   "execution_count": 174,
   "metadata": {
    "collapsed": false,
    "scrolled": true
   },
   "outputs": [
    {
     "name": "stdout",
     "output_type": "stream",
     "text": [
      "Populating the interactive namespace from numpy and matplotlib\n"
     ]
    }
   ],
   "source": [
    "import pylab as pl\n",
    "import pandas as pd\n",
    "import numpy as np\n",
    "import os\n",
    "%pylab inline\n",
    "\n",
    "import requests\n",
    "s = requests.get(\"https://raw.githubusercontent.com/Casyfill/CUSP_templates/master/Py/fbMatplotlibrc.json\").json()\n",
    "pl.rcParams.update(s)\n",
    "\n",
    "np.random.seed(2015)"
   ]
  },
  {
   "cell_type": "markdown",
   "metadata": {},
   "source": [
    "## I. Getting data"
   ]
  },
  {
   "cell_type": "code",
   "execution_count": 17,
   "metadata": {
    "collapsed": false
   },
   "outputs": [],
   "source": [
    "# import os\n",
    "# for x in os.environ: print x\n",
    "#import os\n",
    "# myPath = os.getenv ('PUI2015') # dont work for me, have no idea why\n",
    "# print myPath"
   ]
  },
  {
   "cell_type": "code",
   "execution_count": 125,
   "metadata": {
    "collapsed": true
   },
   "outputs": [],
   "source": [
    "import requests\n",
    "import zipfile\n",
    "import StringIO\n",
    "\n",
    "\n",
    "def urlZipToDF(url):\n",
    "    name = url.split('/')[-1].replace('zip','csv')\n",
    "    r = requests.get(url)\n",
    "    z = zipfile.ZipFile(StringIO.StringIO(r.content))\n",
    "    csvZ = [x for x in z.namelist() if '.csv' in x][0] #simply first csv in list\n",
    "    return pd.read_csv(z.open(csvZ))\n",
    "\n",
    "\n",
    "def getCitibikeData(year, month):\n",
    "    url = 'https://s3.amazonaws.com/tripdata/%d%s-citibike-tripdata.zip' %(year, (\"%02d\" % month))\n",
    "    return urlZipToDF(url)"
   ]
  },
  {
   "cell_type": "code",
   "execution_count": 126,
   "metadata": {
    "collapsed": false
   },
   "outputs": [],
   "source": [
    "mdf = getCitibikeData(2014,10)"
   ]
  },
  {
   "cell_type": "markdown",
   "metadata": {},
   "source": [
    "**Ph: I am using october 2014 data**"
   ]
  },
  {
   "cell_type": "code",
   "execution_count": 10,
   "metadata": {
    "collapsed": false,
    "scrolled": false
   },
   "outputs": [
    {
     "name": "stdout",
     "output_type": "stream",
     "text": [
      "Before filtering: 828711\n",
      "After filtering: 759628\n",
      "Index([u'birth year', u'gender'], dtype='object')\n"
     ]
    }
   ],
   "source": [
    "print \"Before filtering:\", len(df)\n",
    "df = mdf[mdf['usertype'] == 'Subscriber'][['birth year','gender']] ## removed customers\n",
    "print \"After filtering:\", len(df)\n",
    "\n",
    "print df.columns"
   ]
  },
  {
   "cell_type": "markdown",
   "metadata": {},
   "source": [
    "#BY GENDER\n",
    "splitting data by gender and extracting the age happens in the cell below"
   ]
  },
  {
   "cell_type": "code",
   "execution_count": 11,
   "metadata": {
    "collapsed": true
   },
   "outputs": [],
   "source": [
    "#df is the dataframe where the content of the csv file is stored\n",
    "df['age'] = 2015.0-df['birth year'].astype(float)"
   ]
  },
  {
   "cell_type": "code",
   "execution_count": 14,
   "metadata": {
    "collapsed": false
   },
   "outputs": [
    {
     "name": "stdout",
     "output_type": "stream",
     "text": [
      "Males: 587237\n",
      "Females: 172111\n"
     ]
    }
   ],
   "source": [
    "males = df[df['gender'] == 1]\n",
    "females = df[df['gender'] == 2]\n",
    "             \n",
    "print 'Males:', len(males)\n",
    "print 'Females:', len(females)"
   ]
  },
  {
   "cell_type": "markdown",
   "metadata": {},
   "source": [
    "lets split age in 10 year bins. the dataset is very large, so i could be split in smaller bins, but I will chose 10 years in the interest of time. if i was to do this \"for real\" the bin size choice should be a balance between properly sample the age space, have enough counts in each bin that the statistical noise is not significant (remember that is > sqrt(N)!) and the computational requirement to computatinal facilities ratio. "
   ]
  },
  {
   "cell_type": "markdown",
   "metadata": {},
   "source": [
    "the next several steps are needed if you want to code up the KS test from scratch. that is for extra credit, so if you do not want to do it you may not need to plot split the distribution in bins and create the cumulative HOWEVER it is a great idea to do it anyways to explore your data viaually! remember Ascombe's quartet!!"
   ]
  },
  {
   "cell_type": "code",
   "execution_count": 26,
   "metadata": {
    "collapsed": false
   },
   "outputs": [
    {
     "data": {
      "text/plain": [
       "<matplotlib.axes._subplots.AxesSubplot at 0x10899ad10>"
      ]
     },
     "execution_count": 26,
     "metadata": {},
     "output_type": "execute_result"
    },
    {
     "data": {
      "image/png": "[encoded data removed]",
      "text/plain": [
       "<matplotlib.figure.Figure at 0x108a19690>"
      ]
     },
     "metadata": {},
     "output_type": "display_data"
    }
   ],
   "source": [
    "bins = np.arange(10, 99, 10) ## bins\n",
    "\n",
    "\n",
    "ax = males.age.groupby(pd.cut(males.age, bins)).agg([count_nonzero]).plot(kind='bar', legend=0, alpha = 0.4,  color='teal')\n",
    "females.age.groupby(pd.cut(females.age, bins)).agg([count_nonzero]).plot(kind='bar', legend=0, alpha = 0.4, ax=ax, color='k')"
   ]
  },
  {
   "cell_type": "markdown",
   "metadata": {},
   "source": [
    "this is how the cumulative distributions look like.  Notice that i am normalizing them! if i want to reat an observed distribution like a probablility distribution i have to normalize it"
   ]
  },
  {
   "cell_type": "code",
   "execution_count": 27,
   "metadata": {
    "collapsed": false,
    "scrolled": false
   },
   "outputs": [
    {
     "name": "stdout",
     "output_type": "stream",
     "text": [
      "          count_nonzero\n",
      "age                    \n",
      "(10, 20]       0.001968\n",
      "(20, 30]       0.065516\n",
      "(30, 40]       0.053657\n",
      "(40, 50]       0.018060\n",
      "(50, 60]       0.013701\n",
      "(60, 70]       0.003284\n",
      "(70, 80]       0.000065\n",
      "(80, 90]       0.000000\n"
     ]
    },
    {
     "data": {
      "text/plain": [
       "<matplotlib.legend.Legend at 0x108b18790>"
      ]
     },
     "execution_count": 27,
     "metadata": {},
     "output_type": "execute_result"
    },
    {
     "data": {
      "image/png": "[encoded data removed]",
      "text/plain": [
       "<matplotlib.figure.Figure at 0x108b0a950>"
      ]
     },
     "metadata": {},
     "output_type": "display_data"
    }
   ],
   "source": [
    "#print df.ageS, df.ageS.cumsum()\n",
    "\n",
    "csM= males.age.groupby(pd.cut(males.age, bins)).agg([count_nonzero]).cumsum()\n",
    "csF= females.age.groupby(pd.cut(females.age, bins)).agg([count_nonzero]).cumsum()\n",
    "\n",
    "print np.abs(csM / csM.max()-csF / csF.max())\n",
    "\n",
    "pl.plot(bins[:-1] + 5, csM / csM.max(), label = \"M\", color='teal')\n",
    "pl.plot(bins[:-1] + 5, csF / csF.max(), label = \"F\", color = 'k')\n",
    "pl.legend()"
   ]
  },
  {
   "cell_type": "markdown",
   "metadata": {},
   "source": [
    "they look pretty darn similar! that sets my expectation for the tests to come. if i wanted to code the KS test by hand i woud have everything i need: the normalized cumulative distributions can be subtracted from each other and the max distance can be seeked. \n",
    "\n",
    "Notice that there amay be Nan values you are gonna have to deal with! you can do that for example with a Boolean statementsuch as  df.ageF[~np.isnan(df.ageF)] or you can use numpy functions that deal with Nan values: nansum, nanmean, nanstd..."
   ]
  },
  {
   "cell_type": "code",
   "execution_count": 28,
   "metadata": {
    "collapsed": false
   },
   "outputs": [
    {
     "name": "stdout",
     "output_type": "stream",
     "text": [
      "587237\n",
      "172111\n"
     ]
    }
   ],
   "source": [
    "print len(males)\n",
    "print len(females)"
   ]
  },
  {
   "cell_type": "code",
   "execution_count": 99,
   "metadata": {
    "collapsed": false
   },
   "outputs": [
    {
     "name": "stdout",
     "output_type": "stream",
     "text": [
      "172111\n",
      "172111\n"
     ]
    }
   ],
   "source": [
    "# #now lets downsample\n",
    "# cleanM = np.random.choice(cleanM,len(cleanF),replace=True)\n",
    "# print len(cleanM)\n",
    "# print len(cleanF)"
   ]
  },
  {
   "cell_type": "markdown",
   "metadata": {},
   "source": [
    "lets run the scipy KS test"
   ]
  },
  {
   "cell_type": "code",
   "execution_count": 30,
   "metadata": {
    "collapsed": false,
    "scrolled": false
   },
   "outputs": [],
   "source": [
    "import scipy.stats"
   ]
  },
  {
   "cell_type": "markdown",
   "metadata": {
    "collapsed": true
   },
   "source": [
    "# KS tests to compare 2 samples\n",
    "\n",
    "http://docs.scipy.org/doc/scipy-0.15.1/reference/generated/scipy.stats.ks_2samp.html\n"
   ]
  },
  {
   "cell_type": "code",
   "execution_count": 105,
   "metadata": {
    "collapsed": false
   },
   "outputs": [],
   "source": [
    "def myKS(a,b):\n",
    "    bins = np.arange(float(min(a.min(),b.min())), float(max(a.max(),b.max())))\n",
    "#     print bins\n",
    "    csA= a.groupby(pd.cut(a, bins)).agg([count_nonzero]).cumsum()\n",
    "    csB= b.groupby(pd.cut(b, bins)).agg([count_nonzero]).cumsum()\n",
    "    \n",
    "    difference=np.abs(csA / csB.max()-csB / csB.max())\n",
    "    D = max(difference)\n",
    "    \n",
    "    Dcrit = 1.36*sqrt((len(a)+len(b))/float(len(a)*len(b)))\n",
    "    return D<Dcrit\n",
    "                            "
   ]
  },
  {
   "cell_type": "code",
   "execution_count": 108,
   "metadata": {
    "collapsed": false
   },
   "outputs": [
    {
     "name": "stdout",
     "output_type": "stream",
     "text": [
      "According to my hobmebrewed KS null hpotsis can be rejected: True\n"
     ]
    }
   ],
   "source": [
    "print 'According to my hobmebrewed KS null hpotsis can be rejected:', myKS(males.age, females.age)"
   ]
  },
  {
   "cell_type": "code",
   "execution_count": 109,
   "metadata": {
    "collapsed": false
   },
   "outputs": [
    {
     "name": "stdout",
     "output_type": "stream",
     "text": [
      "Ks_2sampResult(statistic=0.07351074907986449, pvalue=0.0)\n"
     ]
    }
   ],
   "source": [
    "ks = scipy.stats.ks_2samp(males.age, females.age)\n",
    "print ks"
   ]
  },
  {
   "cell_type": "markdown",
   "metadata": {},
   "source": [
    "**scipy thinks the same (pvalue is very small)**"
   ]
  },
  {
   "cell_type": "markdown",
   "metadata": {},
   "source": [
    "# Pearson's  test for correlation\n",
    "\n",
    "http://docs.scipy.org/doc/scipy/reference/generated/scipy.stats.pearsonr.html#scipy.stats.pearsonr\n",
    "\n"
   ]
  },
  {
   "cell_type": "code",
   "execution_count": 103,
   "metadata": {
    "collapsed": false
   },
   "outputs": [
    {
     "data": {
      "text/plain": [
       "(0.0023107673485576415, 0.33773744740203604)"
      ]
     },
     "execution_count": 103,
     "metadata": {},
     "output_type": "execute_result"
    }
   ],
   "source": [
    "#please perform the Pearson's test and tell me what you find\n",
    "scipy.stats.pearsonr(cleanM, cleanF)"
   ]
  },
  {
   "cell_type": "markdown",
   "metadata": {},
   "source": [
    "# Spearman's  test for correlation\n",
    "\n",
    "http://docs.scipy.org/doc/scipy/reference/generated/scipy.stats.spearmanr.html#scipy.stats.spearmanr"
   ]
  },
  {
   "cell_type": "markdown",
   "metadata": {},
   "source": [
    "### please perform the Spearman's test and tell me what you find"
   ]
  },
  {
   "cell_type": "code",
   "execution_count": 116,
   "metadata": {
    "collapsed": false
   },
   "outputs": [
    {
     "name": "stdout",
     "output_type": "stream",
     "text": [
      "587237\n",
      "172111\n"
     ]
    }
   ],
   "source": [
    "print len(males)\n",
    "print len(females)"
   ]
  },
  {
   "cell_type": "code",
   "execution_count": 119,
   "metadata": {
    "collapsed": false
   },
   "outputs": [
    {
     "name": "stdout",
     "output_type": "stream",
     "text": [
      "172111\n",
      "172111\n"
     ]
    }
   ],
   "source": [
    "malesR = np.random.choice(males.age,len(females.age),replace=True)\n",
    "femalesR = females.age\n",
    "print len(malesR)\n",
    "print len(femalesR)"
   ]
  },
  {
   "cell_type": "code",
   "execution_count": 121,
   "metadata": {
    "collapsed": false
   },
   "outputs": [
    {
     "name": "stdout",
     "output_type": "stream",
     "text": [
      "(0.00058660971230920813, 0.80772598540573937)\n"
     ]
    }
   ],
   "source": [
    "print scipy.stats.pearsonr(malesR, femalesR)"
   ]
  },
  {
   "cell_type": "code",
   "execution_count": 122,
   "metadata": {
    "collapsed": false
   },
   "outputs": [
    {
     "name": "stdout",
     "output_type": "stream",
     "text": [
      "SpearmanrResult(correlation=0.00014033565560908298, pvalue=0.95357371159259463)\n"
     ]
    }
   ],
   "source": [
    "print scipy.stats.spearmanr(malesR, femalesR)"
   ]
  },
  {
   "cell_type": "markdown",
   "metadata": {},
   "source": [
    "**Still P-values are too large to say that there is no corellation betveen ages, both for Pearson and Spearman...**"
   ]
  },
  {
   "cell_type": "markdown",
   "metadata": {},
   "source": [
    "## II. Night trips"
   ]
  },
  {
   "cell_type": "code",
   "execution_count": 141,
   "metadata": {
    "collapsed": false
   },
   "outputs": [
    {
     "name": "stdout",
     "output_type": "stream",
     "text": [
      "Index([u'tripduration', u'starttime', u'stoptime', u'start station id',\n",
      "       u'start station name', u'start station latitude',\n",
      "       u'start station longitude', u'end station id', u'end station name',\n",
      "       u'end station latitude', u'end station longitude', u'bikeid',\n",
      "       u'usertype', u'birth year', u'gender', u'hour'],\n",
      "      dtype='object')\n"
     ]
    }
   ],
   "source": [
    "df = mdf\n",
    "print df.columns"
   ]
  },
  {
   "cell_type": "code",
   "execution_count": 142,
   "metadata": {
    "collapsed": false
   },
   "outputs": [],
   "source": [
    "#10/1/2014 00:00:27\n",
    "\n",
    "dateparse = lambda x: pd.datetime.strptime(x, '%m/%d/%Y %H:%M:%S').hour\n",
    "df['hour'] = df.starttime.apply(dateparse)"
   ]
  },
  {
   "cell_type": "code",
   "execution_count": 143,
   "metadata": {
    "collapsed": false
   },
   "outputs": [],
   "source": [
    "df = df[df['usertype'] == 'Subscriber'] ## removed customers"
   ]
  },
  {
   "cell_type": "code",
   "execution_count": 146,
   "metadata": {
    "collapsed": false
   },
   "outputs": [
    {
     "name": "stderr",
     "output_type": "stream",
     "text": [
      "/Users/casy/anaconda/lib/python2.7/site-packages/ipykernel/__main__.py:7: SettingWithCopyWarning: \n",
      "A value is trying to be set on a copy of a slice from a DataFrame.\n",
      "Try using .loc[row_indexer,col_indexer] = value instead\n",
      "\n",
      "See the the caveats in the documentation: http://pandas.pydata.org/pandas-docs/stable/indexing.html#indexing-view-versus-copy\n"
     ]
    },
    {
     "data": {
      "text/plain": [
       "True     691894\n",
       "False     67734\n",
       "dtype: int64"
      ]
     },
     "execution_count": 146,
     "metadata": {},
     "output_type": "execute_result"
    }
   ],
   "source": [
    "# split data into day/nights\n",
    "\n",
    "def ifDay(h):\n",
    "    if (6 < h < 22 ):  return True \n",
    "    return False\n",
    "    \n",
    "df['Daytime'] = df.hour.apply(lambda x: ifDay(x))\n",
    "df['Daytime'].value_counts()"
   ]
  },
  {
   "cell_type": "code",
   "execution_count": 154,
   "metadata": {
    "collapsed": false
   },
   "outputs": [
    {
     "name": "stdout",
     "output_type": "stream",
     "text": [
      "691894\n",
      "67734\n"
     ]
    },
    {
     "name": "stderr",
     "output_type": "stream",
     "text": [
      "/Users/casy/anaconda/lib/python2.7/site-packages/ipykernel/__main__.py:1: SettingWithCopyWarning: \n",
      "A value is trying to be set on a copy of a slice from a DataFrame.\n",
      "Try using .loc[row_indexer,col_indexer] = value instead\n",
      "\n",
      "See the the caveats in the documentation: http://pandas.pydata.org/pandas-docs/stable/indexing.html#indexing-view-versus-copy\n",
      "  if __name__ == '__main__':\n"
     ]
    }
   ],
   "source": [
    "df['age'] = 2015.0-df['birth year'].astype(float)\n",
    "\n",
    "Day = df[df['Daytime']==True]\n",
    "Night = df[df['Daytime']==False]\n",
    "\n",
    "print len(Day)\n",
    "print len(Night)"
   ]
  },
  {
   "cell_type": "code",
   "execution_count": 157,
   "metadata": {
    "collapsed": false
   },
   "outputs": [
    {
     "data": {
      "image/png": "[encoded data removed]",
      "text/plain": [
       "<matplotlib.figure.Figure at 0x120bf9d10>"
      ]
     },
     "metadata": {},
     "output_type": "display_data"
    }
   ],
   "source": [
    "ax = Day.age.groupby(pd.cut(Day.age, bins)).agg([count_nonzero]).plot(kind='bar', legend=0, alpha = 0.4,  color='teal')\n",
    "Night.age.groupby(pd.cut(Night.age, bins)).agg([count_nonzero]).plot(kind='bar', legend=0, alpha = 0.4, ax=ax, color='k');"
   ]
  },
  {
   "cell_type": "code",
   "execution_count": 159,
   "metadata": {
    "collapsed": false
   },
   "outputs": [
    {
     "name": "stdout",
     "output_type": "stream",
     "text": [
      "          count_nonzero\n",
      "age                    \n",
      "(10, 20]       0.001506\n",
      "(20, 30]       0.064525\n",
      "(30, 40]       0.062235\n",
      "(40, 50]       0.029801\n",
      "(50, 60]       0.015905\n",
      "(60, 70]       0.003047\n",
      "(70, 80]       0.000253\n",
      "(80, 90]            NaN\n"
     ]
    },
    {
     "data": {
      "image/png": "[encoded data removed]",
      "text/plain": [
       "<matplotlib.figure.Figure at 0x10e055a50>"
      ]
     },
     "metadata": {},
     "output_type": "display_data"
    }
   ],
   "source": [
    "csD= Day.age.groupby(pd.cut(Day.age, bins)).agg([count_nonzero]).cumsum()\n",
    "csN= Night.age.groupby(pd.cut(Night.age, bins)).agg([count_nonzero]).cumsum()\n",
    "\n",
    "print np.abs(csD / csD.max()-csN / csN.max())\n",
    "\n",
    "pl.plot(bins[:-1] + 5, csD / csD.max(), label = \"D\", color='teal')\n",
    "pl.plot(bins[:-1] + 5, csN / csN.max(), label = \"N\", color = 'k')\n",
    "pl.legend();"
   ]
  },
  {
   "cell_type": "code",
   "execution_count": 160,
   "metadata": {
    "collapsed": false
   },
   "outputs": [
    {
     "name": "stdout",
     "output_type": "stream",
     "text": [
      "Ks_2sampResult(statistic=0.073690756164027871, pvalue=1.0559995340432241e-291)\n"
     ]
    }
   ],
   "source": [
    "ks=scipy.stats.ks_2samp(Night.age, Day.age)\n",
    "print ks"
   ]
  },
  {
   "cell_type": "markdown",
   "metadata": {},
   "source": [
    "**P-value s large, so we cant reject the hypotesis that both cyclists samples are of the same population**"
   ]
  },
  {
   "cell_type": "code",
   "execution_count": 161,
   "metadata": {
    "collapsed": false
   },
   "outputs": [
    {
     "name": "stdout",
     "output_type": "stream",
     "text": [
      "691894\n",
      "67734\n"
     ]
    }
   ],
   "source": [
    "print len(Day)\n",
    "print len(Night)"
   ]
  },
  {
   "cell_type": "code",
   "execution_count": 176,
   "metadata": {
    "collapsed": false
   },
   "outputs": [
    {
     "name": "stdout",
     "output_type": "stream",
     "text": [
      "67734\n",
      "67734\n"
     ]
    }
   ],
   "source": [
    "#downsampling\n",
    "DayA = pd.Series(np.random.choice(Day.age,len(Night.age)))\n",
    "NightA = Night.age\n",
    "print len(DayA)\n",
    "print len(NightA)"
   ]
  },
  {
   "cell_type": "code",
   "execution_count": 177,
   "metadata": {
    "collapsed": false
   },
   "outputs": [
    {
     "data": {
      "text/plain": [
       "(-4.5763966620934773e-05, 0.99049726111599279)"
      ]
     },
     "execution_count": 177,
     "metadata": {},
     "output_type": "execute_result"
    }
   ],
   "source": [
    "scipy.stats.pearsonr(DayA, NightA)"
   ]
  },
  {
   "cell_type": "code",
   "execution_count": 178,
   "metadata": {
    "collapsed": false
   },
   "outputs": [
    {
     "data": {
      "text/plain": [
       "SpearmanrResult(correlation=0.00054069002373302675, pvalue=0.88809423974436696)"
      ]
     },
     "execution_count": 178,
     "metadata": {},
     "output_type": "execute_result"
    }
   ],
   "source": [
    "scipy.stats.spearmanr(DayA, NightA)"
   ]
  },
  {
   "cell_type": "markdown",
   "metadata": {},
   "source": [
    "**Both Spearman and Pearson has a large P-value, so we can't  reject the Hypotesis that those parameters (Age of night cyclists vs age of day cyclists) corellate**"
   ]
  }
 ],
 "metadata": {
  "kernelspec": {
   "display_name": "Python 2",
   "language": "python",
   "name": "python2"
  },
  "language_info": {
   "codemirror_mode": {
    "name": "ipython",
    "version": 2
   },
   "file_extension": ".py",
   "mimetype": "text/x-python",
   "name": "python",
   "nbconvert_exporter": "python",
   "pygments_lexer": "ipython2",
   "version": "2.7.10"
  }
 },
 "nbformat": 4,
 "nbformat_minor": 0
}
