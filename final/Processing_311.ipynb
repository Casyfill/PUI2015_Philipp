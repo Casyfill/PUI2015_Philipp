{
 "cells": [
  {
   "cell_type": "code",
   "execution_count": 1,
   "metadata": {
    "collapsed": true
   },
   "outputs": [],
   "source": [
    "import pandas as pd\n",
    "import numpy as np\n",
    "import os\n",
    "\n",
    "PWD = os.getenv('PWD')"
   ]
  },
  {
   "cell_type": "code",
   "execution_count": 28,
   "metadata": {
    "collapsed": false
   },
   "outputs": [],
   "source": [
    "calls = pd.read_csv('/Users/casy/Dropbox/CUSP/GRA/data/311/311_all_full.csv')"
   ]
  },
  {
   "cell_type": "code",
   "execution_count": 26,
   "metadata": {
    "collapsed": false
   },
   "outputs": [],
   "source": [
    "## faster than processing into datetime :-P\n",
    "\n",
    "calls = calls[(calls['Created Date'].str.contains('2013'))& (pd.notnull(calls['Incident Zip']))]"
   ]
  },
  {
   "cell_type": "code",
   "execution_count": 27,
   "metadata": {
    "collapsed": true
   },
   "outputs": [],
   "source": [
    "calls.to_csv('/Users/casy/Dropbox/CUSP/1_1_PUI/PUI2015_Philipp/final/data/311calls.csv')"
   ]
  },
  {
   "cell_type": "code",
   "execution_count": 13,
   "metadata": {
    "collapsed": false
   },
   "outputs": [
    {
     "data": {
      "text/plain": [
       "Index([u'Unique Key', u'Created Date', u'Closed Date', u'Agency',\n",
       "       u'Agency Name', u'Complaint Type', u'Descriptor', u'Location Type',\n",
       "       u'Incident Zip', u'Incident Address', u'Street Name', u'Cross Street 1',\n",
       "       u'Cross Street 2', u'Intersection Street 1', u'Intersection Street 2',\n",
       "       u'Address Type', u'City', u'Landmark', u'Facility Type', u'Status',\n",
       "       u'Due Date', u'Resolution Description',\n",
       "       u'Resolution Action Updated Date', u'Community Board', u'Borough',\n",
       "       u'X Coordinate (State Plane)', u'Y Coordinate (State Plane)',\n",
       "       u'Park Facility Name', u'Park Borough', u'School Name',\n",
       "       u'School Number', u'School Region', u'School Code',\n",
       "       u'School Phone Number', u'School Address', u'School City',\n",
       "       u'School State', u'School Zip', u'School Not Found',\n",
       "       u'School or Citywide Complaint', u'Vehicle Type',\n",
       "       u'Taxi Company Borough', u'Taxi Pick Up Location',\n",
       "       u'Bridge Highway Name', u'Bridge Highway Direction', u'Road Ramp',\n",
       "       u'Bridge Highway Segment', u'Garage Lot Name', u'Ferry Direction',\n",
       "       u'Ferry Terminal Name', u'Latitude', u'Longitude', u'Location'],\n",
       "      dtype='object')"
      ]
     },
     "execution_count": 13,
     "metadata": {},
     "output_type": "execute_result"
    }
   ],
   "source": [
    "calls.columns"
   ]
  },
  {
   "cell_type": "code",
   "execution_count": 14,
   "metadata": {
    "collapsed": false
   },
   "outputs": [
    {
     "name": "stdout",
     "output_type": "stream",
     "text": [
      "1613397\n",
      "1442683\n"
     ]
    }
   ],
   "source": [
    "print len(calls)\n",
    "print len(calls[pd.notnull(calls['Incident Zip'])])"
   ]
  },
  {
   "cell_type": "code",
   "execution_count": 12,
   "metadata": {
    "collapsed": false
   },
   "outputs": [
    {
     "data": {
      "text/plain": [
       "['HEATING',\n",
       " 'GENERAL CONSTRUCTION',\n",
       " 'Street Light Condition',\n",
       " 'PLUMBING',\n",
       " 'PAINT - PLASTER',\n",
       " 'Street Condition',\n",
       " 'Blocked Driveway',\n",
       " 'NONCONST',\n",
       " 'Water System',\n",
       " 'Traffic Signal Condition',\n",
       " 'Illegal Parking',\n",
       " 'DOF Literature Request',\n",
       " 'Noise',\n",
       " 'ELECTRIC',\n",
       " 'Broken Muni Meter',\n",
       " 'Dirty Conditions',\n",
       " 'Sewer',\n",
       " 'Noise - Commercial',\n",
       " 'Building/Use',\n",
       " 'Sanitation Condition',\n",
       " 'Noise - Street/Sidewalk',\n",
       " 'General Construction/Plumbing',\n",
       " 'Rodent',\n",
       " 'Damaged Tree',\n",
       " 'Consumer Complaint',\n",
       " 'Taxi Complaint',\n",
       " 'Missed Collection (All Materials)',\n",
       " 'Overgrown Tree/Branches',\n",
       " 'Graffiti',\n",
       " 'Noise - Vehicle',\n",
       " 'Derelict Vehicles',\n",
       " 'Derelict Vehicle',\n",
       " 'Benefit Card Replacement',\n",
       " 'Street Sign - Damaged',\n",
       " 'Root/Sewer/Sidewalk Condition',\n",
       " 'Dead Tree',\n",
       " 'Maintenance or Facility',\n",
       " 'Elevator',\n",
       " 'Air Quality',\n",
       " 'Food Establishment',\n",
       " 'Special Enforcement',\n",
       " 'Construction',\n",
       " 'APPLIANCE',\n",
       " 'Other Enforcement',\n",
       " 'Fire Safety Director - F58',\n",
       " 'Sidewalk Condition',\n",
       " 'Indoor Air Quality',\n",
       " 'Street Sign - Missing',\n",
       " 'Water Conservation',\n",
       " 'Vending',\n",
       " 'Special Projects Inspection Team (SPIT)',\n",
       " 'Electrical',\n",
       " 'Agency Issues',\n",
       " 'Noise - Park',\n",
       " 'Food Poisoning',\n",
       " 'Plumbing',\n",
       " 'Traffic',\n",
       " 'Hazardous Materials',\n",
       " 'DCA / DOH New License Application Request',\n",
       " 'Litter Basket / Request',\n",
       " 'SCRIE',\n",
       " 'Highway Condition',\n",
       " 'For Hire Vehicle Complaint',\n",
       " 'Snow',\n",
       " 'Homeless Encampment',\n",
       " 'Vacant Lot',\n",
       " 'DOT Literature Request',\n",
       " 'Lead',\n",
       " 'Standing Water',\n",
       " 'Illegal Tree Damage',\n",
       " 'Unsanitary Animal Pvt Property',\n",
       " 'Boilers',\n",
       " 'Asbestos',\n",
       " 'Street Sign - Dangling',\n",
       " 'Smoking',\n",
       " 'Industrial Waste',\n",
       " 'Animal in a Park',\n",
       " 'Sweeping/Missed-Inadequate',\n",
       " 'Non-Residential Heat',\n",
       " 'Drinking',\n",
       " 'Violation of Park Rules',\n",
       " 'School Maintenance',\n",
       " 'EAP Inspection - F59',\n",
       " 'GENERAL',\n",
       " 'BEST/Site Safety',\n",
       " 'Overflowing Litter Baskets',\n",
       " 'Indoor Sewage',\n",
       " 'Water Quality',\n",
       " 'Curb Condition',\n",
       " 'Investigations and Discipline (IAD)',\n",
       " 'CONSTRUCTION',\n",
       " 'Noise - House of Worship',\n",
       " 'Taxi Compliment',\n",
       " 'PAINT/PLASTER',\n",
       " 'Recycling Enforcement',\n",
       " 'Animal Abuse',\n",
       " 'Derelict Bicycle',\n",
       " 'Noise - Helicopter',\n",
       " 'Plant',\n",
       " 'Unleashed Dog',\n",
       " 'Unsanitary Pigeon Condition',\n",
       " 'Bridge Condition',\n",
       " 'Disorderly Youth',\n",
       " 'DOF Parking - Tax Exemption',\n",
       " 'Bike/Roller/Skate Chronic',\n",
       " 'Ferry Inquiry',\n",
       " 'Homeless Person Assistance',\n",
       " 'Public Payphone Complaint',\n",
       " 'Mold',\n",
       " 'Found Property',\n",
       " 'Urinating in Public',\n",
       " 'Request for Information',\n",
       " 'Cranes and Derricks',\n",
       " 'City Vehicle Placard Complaint',\n",
       " 'Fire Alarm - Reinspection',\n",
       " 'OEM Literature Request',\n",
       " 'Miscellaneous Categories',\n",
       " 'Bus Stop Shelter Placement',\n",
       " 'Senior Center Complaint',\n",
       " 'DPR Internal',\n",
       " 'Illegal Animal Kept as Pet',\n",
       " 'Fire Alarm - New System',\n",
       " 'Panhandling',\n",
       " 'Ferry Complaint',\n",
       " 'Illegal Fireworks',\n",
       " 'Scaffold Safety',\n",
       " 'Beach/Pool/Sauna Complaint',\n",
       " 'Broken Parking Meter',\n",
       " 'Complaint',\n",
       " 'Emergency Response Team (ERT)',\n",
       " 'Collection Truck Noise',\n",
       " 'Bike Rack Condition',\n",
       " 'Fire Alarm - Modification',\n",
       " 'Compliment',\n",
       " 'Poison Ivy',\n",
       " 'Drinking Water',\n",
       " 'DPR Literature Request',\n",
       " 'Harboring Bees/Wasps',\n",
       " 'Tattooing',\n",
       " 'Posting Advertisement',\n",
       " 'DCA Literature Request',\n",
       " 'Special Natural Area District (SNAD)',\n",
       " 'Unsanitary Animal Facility',\n",
       " 'Invitation',\n",
       " 'Stalled Sites',\n",
       " 'Animal Facility - No Permit',\n",
       " 'Misc. Comments',\n",
       " 'Highway Sign - Damaged',\n",
       " 'Opinion for the Mayor',\n",
       " 'Adopt-A-Basket',\n",
       " 'Parking Card',\n",
       " 'Municipal Parking Facility',\n",
       " 'DFTA Literature Request',\n",
       " 'Public Toilet',\n",
       " 'Window Guard',\n",
       " 'Open Flame Permit',\n",
       " 'Illegal Animal Sold',\n",
       " 'Ferry Permit',\n",
       " 'Highway Sign - Missing',\n",
       " 'Public Assembly',\n",
       " 'Transportation Provider Complaint',\n",
       " 'Fire Alarm - Addition',\n",
       " 'Fire Alarm - Replacement',\n",
       " 'Legal Services Provider Complaint',\n",
       " 'DHS Income Savings Requirement',\n",
       " 'Calorie Labeling',\n",
       " 'Tunnel Condition',\n",
       " 'STRUCTURAL',\n",
       " 'HPD Literature Request',\n",
       " 'Bottled Water',\n",
       " 'X-Ray Machine/Equipment',\n",
       " 'Highway Sign - Dangling',\n",
       " 'Lifeguard',\n",
       " 'Standpipe - Mechanical',\n",
       " 'Sprinkler - Mechanical',\n",
       " 'Radioactive Material',\n",
       " 'Building Condition',\n",
       " 'Summer Camp',\n",
       " 'Trans Fat',\n",
       " 'Rangehood',\n",
       " 'Hazmat Storage/Use',\n",
       " 'Public Assembly - Temporary',\n",
       " 'Sweeping/Missed',\n",
       " 'Squeegee',\n",
       " 'Literature Request',\n",
       " 'SNW',\n",
       " 'Portable Toilet']"
      ]
     },
     "execution_count": 12,
     "metadata": {},
     "output_type": "execute_result"
    }
   ],
   "source": [
    "# printing 311 call type\n",
    "# x = calls['Complaint Type'].value_counts()\n",
    "# x.index.tolist()"
   ]
  },
  {
   "cell_type": "code",
   "execution_count": 22,
   "metadata": {
    "collapsed": true
   },
   "outputs": [],
   "source": [
    "## here is my subjective choice of relevant complains: it is based on this list\n",
    "## http://www.mayoclinic.org/diseases-conditions/asthma/basics/causes/con-20026992\n",
    "\n",
    "conditions = ['Industrial Waste', 'Asbestos', 'Boilers',\n",
    "              'Indoor Sewage','Water Quality','PAINT/PLASTER',\n",
    "              'Unsanitary Pigeon Condition','Mold','Collection Truck Noise',\n",
    "              'Poison Ivy','Harboring Bees/Wasps','Drinking Water',\n",
    "              'Unsanitary Animal Facility','Radioactive Material','Hazmat Storage/Use',\n",
    "              'HEATING','GENERAL CONSTRUCTION','Street Light Condition',\n",
    "              'PLUMBING','PAINT - PLASTER','Street Condition',\n",
    "              'Blocked Driveway','NONCONST','Water System',\n",
    "              'Broken Muni Meter','Dirty Conditions','Sewer',\n",
    "              'Sanitation Condition','General Construction/Plumbing','Rodent',\n",
    "              'Root/Sewer/Sidewalk Condition','Air Quality','Construction',\n",
    "              'APPLIANCE','UNSANITARY CONDITION',]"
   ]
  },
  {
   "cell_type": "code",
   "execution_count": 23,
   "metadata": {
    "collapsed": true
   },
   "outputs": [],
   "source": [
    "asthmaCalls = calls[calls['Complaint Type'].isin(conditions)]"
   ]
  },
  {
   "cell_type": "code",
   "execution_count": 21,
   "metadata": {
    "collapsed": false
   },
   "outputs": [
    {
     "data": {
      "text/html": [
       "<div>\n",
       "<table border=\"1\" class=\"dataframe\">\n",
       "  <thead>\n",
       "    <tr style=\"text-align: right;\">\n",
       "      <th></th>\n",
       "      <th>index</th>\n",
       "      <th>Incident Zip</th>\n",
       "    </tr>\n",
       "  </thead>\n",
       "  <tbody>\n",
       "    <tr>\n",
       "      <th>0</th>\n",
       "      <td>11226</td>\n",
       "      <td>13971</td>\n",
       "    </tr>\n",
       "    <tr>\n",
       "      <th>1</th>\n",
       "      <td>10467</td>\n",
       "      <td>11607</td>\n",
       "    </tr>\n",
       "    <tr>\n",
       "      <th>2</th>\n",
       "      <td>10458</td>\n",
       "      <td>10646</td>\n",
       "    </tr>\n",
       "    <tr>\n",
       "      <th>3</th>\n",
       "      <td>10453</td>\n",
       "      <td>10376</td>\n",
       "    </tr>\n",
       "    <tr>\n",
       "      <th>4</th>\n",
       "      <td>10468</td>\n",
       "      <td>10276</td>\n",
       "    </tr>\n",
       "  </tbody>\n",
       "</table>\n",
       "</div>"
      ],
      "text/plain": [
       "   index  Incident Zip\n",
       "0  11226         13971\n",
       "1  10467         11607\n",
       "2  10458         10646\n",
       "3  10453         10376\n",
       "4  10468         10276"
      ]
     },
     "execution_count": 21,
     "metadata": {},
     "output_type": "execute_result"
    }
   ],
   "source": [
    "zip311 = calls['Incident Zip'].value_counts().reset_index()\n",
    "zip311.head()"
   ]
  },
  {
   "cell_type": "code",
   "execution_count": null,
   "metadata": {
    "collapsed": true
   },
   "outputs": [],
   "source": []
  }
 ],
 "metadata": {
  "kernelspec": {
   "display_name": "Python 2",
   "language": "python",
   "name": "python2"
  },
  "language_info": {
   "codemirror_mode": {
    "name": "ipython",
    "version": 2
   },
   "file_extension": ".py",
   "mimetype": "text/x-python",
   "name": "python",
   "nbconvert_exporter": "python",
   "pygments_lexer": "ipython2",
   "version": "2.7.10"
  }
 },
 "nbformat": 4,
 "nbformat_minor": 0
}
